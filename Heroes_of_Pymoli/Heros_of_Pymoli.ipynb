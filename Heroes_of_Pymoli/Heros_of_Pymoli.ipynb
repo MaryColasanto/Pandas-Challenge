{
 "cells": [
  {
   "cell_type": "code",
   "execution_count": 1,
   "metadata": {},
   "outputs": [],
   "source": [
    "#Import Dependencies\n",
    "import pandas as pd"
   ]
  },
  {
   "cell_type": "code",
   "execution_count": 52,
   "metadata": {},
   "outputs": [
    {
     "data": {
      "text/html": [
       "<div>\n",
       "<style scoped>\n",
       "    .dataframe tbody tr th:only-of-type {\n",
       "        vertical-align: middle;\n",
       "    }\n",
       "\n",
       "    .dataframe tbody tr th {\n",
       "        vertical-align: top;\n",
       "    }\n",
       "\n",
       "    .dataframe thead th {\n",
       "        text-align: right;\n",
       "    }\n",
       "</style>\n",
       "<table border=\"1\" class=\"dataframe\">\n",
       "  <thead>\n",
       "    <tr style=\"text-align: right;\">\n",
       "      <th></th>\n",
       "      <th>Purchase ID</th>\n",
       "      <th>SN</th>\n",
       "      <th>Age</th>\n",
       "      <th>Gender</th>\n",
       "      <th>Item ID</th>\n",
       "      <th>Item Name</th>\n",
       "      <th>Price</th>\n",
       "    </tr>\n",
       "  </thead>\n",
       "  <tbody>\n",
       "    <tr>\n",
       "      <th>0</th>\n",
       "      <td>0</td>\n",
       "      <td>Lisim78</td>\n",
       "      <td>20</td>\n",
       "      <td>Male</td>\n",
       "      <td>108</td>\n",
       "      <td>Extraction, Quickblade Of Trembling Hands</td>\n",
       "      <td>3.53</td>\n",
       "    </tr>\n",
       "    <tr>\n",
       "      <th>1</th>\n",
       "      <td>1</td>\n",
       "      <td>Lisovynya38</td>\n",
       "      <td>40</td>\n",
       "      <td>Male</td>\n",
       "      <td>143</td>\n",
       "      <td>Frenzied Scimitar</td>\n",
       "      <td>1.56</td>\n",
       "    </tr>\n",
       "    <tr>\n",
       "      <th>2</th>\n",
       "      <td>2</td>\n",
       "      <td>Ithergue48</td>\n",
       "      <td>24</td>\n",
       "      <td>Male</td>\n",
       "      <td>92</td>\n",
       "      <td>Final Critic</td>\n",
       "      <td>4.88</td>\n",
       "    </tr>\n",
       "    <tr>\n",
       "      <th>3</th>\n",
       "      <td>3</td>\n",
       "      <td>Chamassasya86</td>\n",
       "      <td>24</td>\n",
       "      <td>Male</td>\n",
       "      <td>100</td>\n",
       "      <td>Blindscythe</td>\n",
       "      <td>3.27</td>\n",
       "    </tr>\n",
       "    <tr>\n",
       "      <th>4</th>\n",
       "      <td>4</td>\n",
       "      <td>Iskosia90</td>\n",
       "      <td>23</td>\n",
       "      <td>Male</td>\n",
       "      <td>131</td>\n",
       "      <td>Fury</td>\n",
       "      <td>1.44</td>\n",
       "    </tr>\n",
       "  </tbody>\n",
       "</table>\n",
       "</div>"
      ],
      "text/plain": [
       "   Purchase ID             SN  Age Gender  Item ID  \\\n",
       "0            0        Lisim78   20   Male      108   \n",
       "1            1    Lisovynya38   40   Male      143   \n",
       "2            2     Ithergue48   24   Male       92   \n",
       "3            3  Chamassasya86   24   Male      100   \n",
       "4            4      Iskosia90   23   Male      131   \n",
       "\n",
       "                                   Item Name  Price  \n",
       "0  Extraction, Quickblade Of Trembling Hands   3.53  \n",
       "1                          Frenzied Scimitar   1.56  \n",
       "2                               Final Critic   4.88  \n",
       "3                                Blindscythe   3.27  \n",
       "4                                       Fury   1.44  "
      ]
     },
     "execution_count": 52,
     "metadata": {},
     "output_type": "execute_result"
    }
   ],
   "source": [
    "#Locate and read file\n",
    "file = \"Resources/purchase_data.csv\"\n",
    "df = pd.read_csv(file)\n",
    "df.head()"
   ]
  },
  {
   "cell_type": "markdown",
   "metadata": {},
   "source": [
    "# Player Count"
   ]
  },
  {
   "cell_type": "code",
   "execution_count": 59,
   "metadata": {},
   "outputs": [
    {
     "name": "stdout",
     "output_type": "stream",
     "text": [
      "The total number of players is 576\n"
     ]
    }
   ],
   "source": [
    "#Determine number of unique players\n",
    "player_count = df[\"SN\"].nunique()\n",
    "print(\"The total number of players is\",player_count)"
   ]
  },
  {
   "cell_type": "markdown",
   "metadata": {},
   "source": [
    "## Purchasing Analysis (Total)"
   ]
  },
  {
   "cell_type": "code",
   "execution_count": 74,
   "metadata": {},
   "outputs": [
    {
     "data": {
      "text/html": [
       "<div>\n",
       "<style scoped>\n",
       "    .dataframe tbody tr th:only-of-type {\n",
       "        vertical-align: middle;\n",
       "    }\n",
       "\n",
       "    .dataframe tbody tr th {\n",
       "        vertical-align: top;\n",
       "    }\n",
       "\n",
       "    .dataframe thead th {\n",
       "        text-align: right;\n",
       "    }\n",
       "</style>\n",
       "<table border=\"1\" class=\"dataframe\">\n",
       "  <thead>\n",
       "    <tr style=\"text-align: right;\">\n",
       "      <th></th>\n",
       "      <th>Unique Items</th>\n",
       "      <th>Average Purchase Price</th>\n",
       "      <th>Total Purchases</th>\n",
       "      <th>Total Revenue</th>\n",
       "    </tr>\n",
       "  </thead>\n",
       "  <tbody>\n",
       "    <tr>\n",
       "      <th>0</th>\n",
       "      <td>179</td>\n",
       "      <td>3.05</td>\n",
       "      <td>780</td>\n",
       "      <td>2379.77</td>\n",
       "    </tr>\n",
       "  </tbody>\n",
       "</table>\n",
       "</div>"
      ],
      "text/plain": [
       "   Unique Items  Average Purchase Price  Total Purchases  Total Revenue\n",
       "0           179                    3.05              780        2379.77"
      ]
     },
     "execution_count": 74,
     "metadata": {},
     "output_type": "execute_result"
    }
   ],
   "source": [
    "#Number of unique items\n",
    "items = df[\"Item ID\"].nunique()\n",
    "\n",
    "#Average purchase price\n",
    "avg_purchase = round(df[\"Price\"].mean(), 2)\n",
    "\n",
    "#Total number of purchases\n",
    "total_purchases = df[\"Purchase ID\"].count()\n",
    "\n",
    "#Total revenue\n",
    "revenue = df[\"Price\"].sum()\n",
    "\n",
    "#Generate output summary\n",
    "purchase_analysis_df = pd.DataFrame({\n",
    "    \"Unique Items\":[items],\n",
    "    \"Average Purchase Price\":[avg_purchase],\n",
    "    \"Total Purchases\":[total_purchases],\n",
    "    \"Total Revenue\":[revenue]\n",
    "})\n",
    "\n",
    "#Format output\n",
    "\n",
    "#Print dataframe\n",
    "purchase_analysis_df"
   ]
  },
  {
   "cell_type": "markdown",
   "metadata": {},
   "source": [
    "## Gender Demographics"
   ]
  },
  {
   "cell_type": "code",
   "execution_count": 88,
   "metadata": {},
   "outputs": [
    {
     "data": {
      "text/html": [
       "<div>\n",
       "<style scoped>\n",
       "    .dataframe tbody tr th:only-of-type {\n",
       "        vertical-align: middle;\n",
       "    }\n",
       "\n",
       "    .dataframe tbody tr th {\n",
       "        vertical-align: top;\n",
       "    }\n",
       "\n",
       "    .dataframe thead th {\n",
       "        text-align: right;\n",
       "    }\n",
       "</style>\n",
       "<table border=\"1\" class=\"dataframe\">\n",
       "  <thead>\n",
       "    <tr style=\"text-align: right;\">\n",
       "      <th></th>\n",
       "      <th>Number of players per gender</th>\n",
       "      <th>Percentage of players per gender</th>\n",
       "    </tr>\n",
       "  </thead>\n",
       "  <tbody>\n",
       "    <tr>\n",
       "      <th>Male</th>\n",
       "      <td>484</td>\n",
       "      <td>84.03</td>\n",
       "    </tr>\n",
       "    <tr>\n",
       "      <th>Female</th>\n",
       "      <td>81</td>\n",
       "      <td>14.06</td>\n",
       "    </tr>\n",
       "    <tr>\n",
       "      <th>Other / Non-Disclosed</th>\n",
       "      <td>11</td>\n",
       "      <td>1.91</td>\n",
       "    </tr>\n",
       "  </tbody>\n",
       "</table>\n",
       "</div>"
      ],
      "text/plain": [
       "                       Number of players per gender  \\\n",
       "Male                                            484   \n",
       "Female                                           81   \n",
       "Other / Non-Disclosed                            11   \n",
       "\n",
       "                      Percentage of players per gender  \n",
       "Male                                             84.03  \n",
       "Female                                           14.06  \n",
       "Other / Non-Disclosed                             1.91  "
      ]
     },
     "execution_count": 88,
     "metadata": {},
     "output_type": "execute_result"
    }
   ],
   "source": [
    "#Simplify database by deleting duplicate screennames\n",
    "gender_only_df = df.drop_duplicates(subset=\"SN\", keep=\"first\")\n",
    "\n",
    "#Count the number of players for each gender\n",
    "gender = gender_only_df[\"Gender\"].value_counts()\n",
    "\n",
    "#Calculate the percent of players for each gender\n",
    "percent_gender = round(gender_only_df[\"Gender\"].value_counts()/player_count*100, 2)\n",
    "\n",
    "#Display the data in a dataframe\n",
    "gender_demographics_df = pd.DataFrame({\n",
    "    \"Number of players per gender\":gender,\n",
    "    \"Percentage of players per gender\":percent_gender\n",
    "})\n",
    "\n",
    "#Format the data\n",
    "gender_demographics_df[\"Percentage of players per gender\"] = gender_demographics_df[\"Percentage of players per gender\"].map(\"{:.2f}\".format)\n",
    "\n",
    "gender_demographics_df"
   ]
  },
  {
   "cell_type": "markdown",
   "metadata": {},
   "source": [
    "## Purchasing Analysis (Gender)"
   ]
  },
  {
   "cell_type": "code",
   "execution_count": 86,
   "metadata": {},
   "outputs": [
    {
     "data": {
      "text/html": [
       "<div>\n",
       "<style scoped>\n",
       "    .dataframe tbody tr th:only-of-type {\n",
       "        vertical-align: middle;\n",
       "    }\n",
       "\n",
       "    .dataframe tbody tr th {\n",
       "        vertical-align: top;\n",
       "    }\n",
       "\n",
       "    .dataframe thead th {\n",
       "        text-align: right;\n",
       "    }\n",
       "</style>\n",
       "<table border=\"1\" class=\"dataframe\">\n",
       "  <thead>\n",
       "    <tr style=\"text-align: right;\">\n",
       "      <th></th>\n",
       "      <th>Purchases</th>\n",
       "      <th>Average Price</th>\n",
       "      <th>Total Value</th>\n",
       "      <th>Average Total per Person</th>\n",
       "    </tr>\n",
       "    <tr>\n",
       "      <th>Gender</th>\n",
       "      <th></th>\n",
       "      <th></th>\n",
       "      <th></th>\n",
       "      <th></th>\n",
       "    </tr>\n",
       "  </thead>\n",
       "  <tbody>\n",
       "    <tr>\n",
       "      <th>Female</th>\n",
       "      <td>113</td>\n",
       "      <td>$3.20</td>\n",
       "      <td>$361.94</td>\n",
       "      <td>$4.47</td>\n",
       "    </tr>\n",
       "    <tr>\n",
       "      <th>Male</th>\n",
       "      <td>652</td>\n",
       "      <td>$3.02</td>\n",
       "      <td>$1967.64</td>\n",
       "      <td>$4.07</td>\n",
       "    </tr>\n",
       "    <tr>\n",
       "      <th>Other / Non-Disclosed</th>\n",
       "      <td>15</td>\n",
       "      <td>$3.35</td>\n",
       "      <td>$50.19</td>\n",
       "      <td>$4.56</td>\n",
       "    </tr>\n",
       "  </tbody>\n",
       "</table>\n",
       "</div>"
      ],
      "text/plain": [
       "                       Purchases Average Price Total Value  \\\n",
       "Gender                                                       \n",
       "Female                       113         $3.20     $361.94   \n",
       "Male                         652         $3.02    $1967.64   \n",
       "Other / Non-Disclosed         15         $3.35      $50.19   \n",
       "\n",
       "                      Average Total per Person  \n",
       "Gender                                          \n",
       "Female                                   $4.47  \n",
       "Male                                     $4.07  \n",
       "Other / Non-Disclosed                    $4.56  "
      ]
     },
     "execution_count": 86,
     "metadata": {},
     "output_type": "execute_result"
    }
   ],
   "source": [
    "# Group the purchases by gender for analysis\n",
    "by_gender_df = df.groupby([\"Gender\"])\n",
    "\n",
    "# Number of purchases per gender\n",
    "purchase_count_gender = by_gender_df[\"Purchase ID\"].count()\n",
    "\n",
    "# Average purchase price per gender\n",
    "average_purchase_price_gender = round(by_gender_df[\"Price\"].mean(), 2)\n",
    "\n",
    "# Total purchase value per gender\n",
    "total_purchase_value_gender = by_gender_df[\"Price\"].sum()\n",
    "\n",
    "# Average purchase total per person per gender - not sure I'm interpreting this correctly\n",
    "purchase_total_per_person_gender = round(by_gender_df[\"Price\"].sum()/gender, 2)\n",
    "\n",
    "#Display the data in a dataframe\n",
    "purchasing_analysis_gender_df = pd.DataFrame({\n",
    "    \"Purchases\":purchase_count_gender,\n",
    "    \"Average Price\":average_purchase_price_gender,\n",
    "    \"Total Value\":total_purchase_value_gender,\n",
    "    \"Average Total per Person\":purchase_total_per_person_gender\n",
    "    \n",
    "})\n",
    "\n",
    "#Format data\n",
    "purchasing_analysis_gender_df[\"Average Price\"] = purchasing_analysis_gender_df[\"Average Price\"].map(\"${:.2f}\".format)\n",
    "purchasing_analysis_gender_df[\"Total Value\"] = purchasing_analysis_gender_df[\"Total Value\"].map(\"${:.2f}\".format)\n",
    "purchasing_analysis_gender_df[\"Average Total per Person\"] = purchasing_analysis_gender_df[\"Average Total per Person\"].map(\"${:.2f}\".format)\n",
    "\n",
    "\n",
    "#Print output\n",
    "purchasing_analysis_gender_df"
   ]
  },
  {
   "cell_type": "markdown",
   "metadata": {},
   "source": [
    "## Age Demographics"
   ]
  },
  {
   "cell_type": "code",
   "execution_count": 11,
   "metadata": {
    "scrolled": true
   },
   "outputs": [
    {
     "name": "stdout",
     "output_type": "stream",
     "text": [
      "Age Demographics\n"
     ]
    },
    {
     "data": {
      "text/plain": [
       "19-22       298\n",
       "23-26       150\n",
       "15-18       101\n",
       "27-30        60\n",
       "11-14        47\n",
       "31-34        45\n",
       "under 10     39\n",
       "35-38        27\n",
       "39-42        10\n",
       "43-46         3\n",
       "Name: Age Group, dtype: int64"
      ]
     },
     "execution_count": 11,
     "metadata": {},
     "output_type": "execute_result"
    }
   ],
   "source": [
    "# Create bins and labels for the age ranges\n",
    "bins = [0, 11, 15, 19, 23, 27, 31, 35, 39, 43, 47]\n",
    "\n",
    "age_groups = [\"under 10\", \"11-14\", \"15-18\", \"19-22\", \"23-26\", \"27-30\", \"31-34\", \"35-38\", \"39-42\", \"43-46\"]\n",
    "\n",
    "# Determine an age group bin for each row\n",
    "df[\"Age Group\"] = pd.cut(df[\"Age\"], bins, labels=age_groups, include_lowest=True)\n",
    "df[\"Age Group\"].value_counts()\n"
   ]
  },
  {
   "cell_type": "code",
   "execution_count": 12,
   "metadata": {},
   "outputs": [
    {
     "data": {
      "text/plain": [
       "Age Group\n",
       "under 10     39\n",
       "11-14        47\n",
       "15-18       101\n",
       "19-22       298\n",
       "23-26       150\n",
       "27-30        60\n",
       "31-34        45\n",
       "35-38        27\n",
       "39-42        10\n",
       "43-46         3\n",
       "Name: Purchase ID, dtype: int64"
      ]
     },
     "execution_count": 12,
     "metadata": {},
     "output_type": "execute_result"
    }
   ],
   "source": [
    "# Group the data by Age Group\n",
    "age_group_df = df.groupby(\"Age Group\")\n",
    "\n",
    "# Count the number of purchases per age group\n",
    "purchases_age = age_group_df[\"Purchase ID\"].count()\n",
    "\n",
    "# Determine the average purchase price per age group\n",
    "average_purchase_age = round(age_group_df[\"Price\"].mean(), 2)\n",
    "\n",
    "# Determine the total revenue per age group\n",
    "total_revenue_age = age_group_df[\"Price\"].sum()\n",
    "\n",
    "# Average purchase total per person by age group - not sure I'm interpreting this correctly\n",
    "average_per_person_age = round(age_group_df[\"Price\"].sum()/age_group_df[\"Age Group\"].value_counts(), 2)\n",
    "\n",
    "#Display the data in a dataframe\n"
   ]
  },
  {
   "cell_type": "code",
   "execution_count": 13,
   "metadata": {},
   "outputs": [
    {
     "data": {
      "text/plain": [
       "Age Group\n",
       "under 10    3.28\n",
       "11-14       2.93\n",
       "15-18       3.04\n",
       "19-22       3.03\n",
       "23-26       3.06\n",
       "27-30       2.97\n",
       "31-34       2.93\n",
       "35-38       3.54\n",
       "39-42       3.12\n",
       "43-46       2.35\n",
       "Name: Price, dtype: float64"
      ]
     },
     "execution_count": 13,
     "metadata": {},
     "output_type": "execute_result"
    }
   ],
   "source": []
  },
  {
   "cell_type": "code",
   "execution_count": 14,
   "metadata": {},
   "outputs": [
    {
     "data": {
      "text/plain": [
       "Age Group\n",
       "under 10    127.75\n",
       "11-14       137.81\n",
       "15-18       307.24\n",
       "19-22       903.84\n",
       "23-26       459.54\n",
       "27-30       178.05\n",
       "31-34       131.66\n",
       "35-38        95.64\n",
       "39-42        31.18\n",
       "43-46         7.06\n",
       "Name: Price, dtype: float64"
      ]
     },
     "execution_count": 14,
     "metadata": {},
     "output_type": "execute_result"
    }
   ],
   "source": []
  },
  {
   "cell_type": "code",
   "execution_count": 37,
   "metadata": {},
   "outputs": [
    {
     "data": {
      "text/plain": [
       "Age Group  Age Group\n",
       "under 10   under 10     3.28\n",
       "11-14      11-14        2.93\n",
       "15-18      15-18        3.04\n",
       "19-22      19-22        3.03\n",
       "23-26      23-26        3.06\n",
       "27-30      27-30        2.97\n",
       "31-34      31-34        2.93\n",
       "35-38      35-38        3.54\n",
       "39-42      39-42        3.12\n",
       "43-46      43-46        2.35\n",
       "dtype: float64"
      ]
     },
     "execution_count": 37,
     "metadata": {},
     "output_type": "execute_result"
    }
   ],
   "source": []
  },
  {
   "cell_type": "markdown",
   "metadata": {},
   "source": [
    "## Top Spenders"
   ]
  },
  {
   "cell_type": "code",
   "execution_count": 57,
   "metadata": {},
   "outputs": [
    {
     "data": {
      "text/html": [
       "<div>\n",
       "<style scoped>\n",
       "    .dataframe tbody tr th:only-of-type {\n",
       "        vertical-align: middle;\n",
       "    }\n",
       "\n",
       "    .dataframe tbody tr th {\n",
       "        vertical-align: top;\n",
       "    }\n",
       "\n",
       "    .dataframe thead th {\n",
       "        text-align: right;\n",
       "    }\n",
       "</style>\n",
       "<table border=\"1\" class=\"dataframe\">\n",
       "  <thead>\n",
       "    <tr style=\"text-align: right;\">\n",
       "      <th></th>\n",
       "      <th>Number of Purchases</th>\n",
       "      <th>Average Purchase Price</th>\n",
       "      <th>Total Purchase Amount</th>\n",
       "    </tr>\n",
       "    <tr>\n",
       "      <th>SN</th>\n",
       "      <th></th>\n",
       "      <th></th>\n",
       "      <th></th>\n",
       "    </tr>\n",
       "  </thead>\n",
       "  <tbody>\n",
       "    <tr>\n",
       "      <th>Lisosia93</th>\n",
       "      <td>5</td>\n",
       "      <td>3.792000</td>\n",
       "      <td>18.96</td>\n",
       "    </tr>\n",
       "    <tr>\n",
       "      <th>Idastidru52</th>\n",
       "      <td>4</td>\n",
       "      <td>3.862500</td>\n",
       "      <td>15.45</td>\n",
       "    </tr>\n",
       "    <tr>\n",
       "      <th>Chamjask73</th>\n",
       "      <td>3</td>\n",
       "      <td>4.610000</td>\n",
       "      <td>13.83</td>\n",
       "    </tr>\n",
       "    <tr>\n",
       "      <th>Iral74</th>\n",
       "      <td>4</td>\n",
       "      <td>3.405000</td>\n",
       "      <td>13.62</td>\n",
       "    </tr>\n",
       "    <tr>\n",
       "      <th>Iskadarya95</th>\n",
       "      <td>3</td>\n",
       "      <td>4.366667</td>\n",
       "      <td>13.10</td>\n",
       "    </tr>\n",
       "  </tbody>\n",
       "</table>\n",
       "</div>"
      ],
      "text/plain": [
       "             Number of Purchases  Average Purchase Price  \\\n",
       "SN                                                         \n",
       "Lisosia93                      5                3.792000   \n",
       "Idastidru52                    4                3.862500   \n",
       "Chamjask73                     3                4.610000   \n",
       "Iral74                         4                3.405000   \n",
       "Iskadarya95                    3                4.366667   \n",
       "\n",
       "             Total Purchase Amount  \n",
       "SN                                  \n",
       "Lisosia93                    18.96  \n",
       "Idastidru52                  15.45  \n",
       "Chamjask73                   13.83  \n",
       "Iral74                       13.62  \n",
       "Iskadarya95                  13.10  "
      ]
     },
     "execution_count": 57,
     "metadata": {},
     "output_type": "execute_result"
    }
   ],
   "source": [
    "#Group by screenname to determine the top spender\n",
    "sn_df = df.groupby([\"SN\"])\n",
    "\n",
    "#Number of purchases per player\n",
    "purchase_count_sn = sn_df[\"Purchase ID\"].count()\n",
    "\n",
    "#Average purchase price per player\n",
    "average_purchase_sn = sn_df[\"Price\"].mean()\n",
    "\n",
    "#Total purchase value per player\n",
    "total_purchase_sn = sn_df[\"Price\"].sum()\n",
    "\n",
    "#Add new data to a dataframe\n",
    "top_spenders_df = pd.DataFrame({\n",
    "    \"Number of Purchases\":purchase_count_sn, \n",
    "    \"Average Purchase Price\":average_purchase_sn,\n",
    "    \"Total Purchase Amount\":total_purchase_sn,\n",
    "})\n",
    "\n",
    "#Format values in the table\n",
    "\n",
    "\n",
    "#Sort based on the total purchase value\n",
    "top_spenders_df = top_spenders_df.sort_values([\"Total Purchase Amount\"], ascending=False)\n",
    "top_spenders_df.head(5)"
   ]
  },
  {
   "cell_type": "markdown",
   "metadata": {},
   "source": [
    "## Most Popular Items"
   ]
  },
  {
   "cell_type": "code",
   "execution_count": null,
   "metadata": {},
   "outputs": [],
   "source": []
  },
  {
   "cell_type": "code",
   "execution_count": null,
   "metadata": {},
   "outputs": [],
   "source": []
  },
  {
   "cell_type": "code",
   "execution_count": null,
   "metadata": {},
   "outputs": [],
   "source": []
  },
  {
   "cell_type": "markdown",
   "metadata": {},
   "source": [
    "## Most Profitable Items"
   ]
  },
  {
   "cell_type": "code",
   "execution_count": null,
   "metadata": {},
   "outputs": [],
   "source": []
  }
 ],
 "metadata": {
  "kernelspec": {
   "display_name": "Python 3",
   "language": "python",
   "name": "python3"
  },
  "language_info": {
   "codemirror_mode": {
    "name": "ipython",
    "version": 3
   },
   "file_extension": ".py",
   "mimetype": "text/x-python",
   "name": "python",
   "nbconvert_exporter": "python",
   "pygments_lexer": "ipython3",
   "version": "3.8.3"
  }
 },
 "nbformat": 4,
 "nbformat_minor": 4
}
